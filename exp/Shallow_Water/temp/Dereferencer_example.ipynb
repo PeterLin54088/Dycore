{
 "cells": [
  {
   "cell_type": "code",
   "execution_count": 1,
   "id": "869f5cd7-94bd-4258-bc8e-10fa567bb066",
   "metadata": {
    "tags": []
   },
   "outputs": [
    {
     "data": {
      "text/plain": [
       "'/home/b08209033/Dycore/exp/Shallow_Water/temp'"
      ]
     },
     "execution_count": 1,
     "metadata": {},
     "output_type": "execute_result"
    }
   ],
   "source": [
    "import numpy as np\n",
    "import h5py\n",
    "import os\n",
    "import matplotlib.pyplot as plt\n",
    "os.getcwd()"
   ]
  },
  {
   "cell_type": "code",
   "execution_count": 2,
   "id": "04ca06f4-4f1d-41f9-ad18-7a04310fc3e4",
   "metadata": {
    "tags": []
   },
   "outputs": [
    {
     "name": "stdout",
     "output_type": "stream",
     "text": [
      "<HDF5 file \"daily.jld\" (mode r)>\n"
     ]
    }
   ],
   "source": [
    "file = h5py.File('daily.jld', 'r')\n",
    "print(file)"
   ]
  },
  {
   "cell_type": "code",
   "execution_count": 3,
   "id": "16ae8551-5771-4018-ab98-e14e26502da1",
   "metadata": {
    "tags": []
   },
   "outputs": [
    {
     "name": "stdout",
     "output_type": "stream",
     "text": [
      "h_daily_mean\n",
      "t_daily_mean\n",
      "u_daily_mean\n",
      "v_daily_mean\n"
     ]
    }
   ],
   "source": [
    "for key in file.keys():\n",
    "    print(key)"
   ]
  },
  {
   "cell_type": "code",
   "execution_count": 4,
   "id": "7dc254de-9948-4b6e-9f29-b7cdcd67aa8e",
   "metadata": {
    "tags": []
   },
   "outputs": [],
   "source": [
    "u = file[\"u_daily_mean\"]\n",
    "v = file[\"v_daily_mean\"]"
   ]
  },
  {
   "cell_type": "code",
   "execution_count": 8,
   "id": "de37519e-2888-4041-af12-e30e920e5b21",
   "metadata": {
    "tags": []
   },
   "outputs": [
    {
     "name": "stdout",
     "output_type": "stream",
     "text": [
      "[[[[nan nan nan ... nan nan nan]\n",
      "   [nan nan nan ... nan nan nan]\n",
      "   [nan nan nan ... nan nan nan]\n",
      "   ...\n",
      "   [nan nan nan ... nan nan nan]\n",
      "   [nan nan nan ... nan nan nan]\n",
      "   [nan nan nan ... nan nan nan]]]\n",
      "\n",
      "\n",
      " [[[nan nan nan ... nan nan nan]\n",
      "   [nan nan nan ... nan nan nan]\n",
      "   [nan nan nan ... nan nan nan]\n",
      "   ...\n",
      "   [nan nan nan ... nan nan nan]\n",
      "   [nan nan nan ... nan nan nan]\n",
      "   [nan nan nan ... nan nan nan]]]\n",
      "\n",
      "\n",
      " [[[nan nan nan ... nan nan nan]\n",
      "   [nan nan nan ... nan nan nan]\n",
      "   [nan nan nan ... nan nan nan]\n",
      "   ...\n",
      "   [nan nan nan ... nan nan nan]\n",
      "   [nan nan nan ... nan nan nan]\n",
      "   [nan nan nan ... nan nan nan]]]\n",
      "\n",
      "\n",
      " ...\n",
      "\n",
      "\n",
      " [[[nan nan nan ... nan nan nan]\n",
      "   [nan nan nan ... nan nan nan]\n",
      "   [nan nan nan ... nan nan nan]\n",
      "   ...\n",
      "   [nan nan nan ... nan nan nan]\n",
      "   [nan nan nan ... nan nan nan]\n",
      "   [nan nan nan ... nan nan nan]]]\n",
      "\n",
      "\n",
      " [[[nan nan nan ... nan nan nan]\n",
      "   [nan nan nan ... nan nan nan]\n",
      "   [nan nan nan ... nan nan nan]\n",
      "   ...\n",
      "   [nan nan nan ... nan nan nan]\n",
      "   [nan nan nan ... nan nan nan]\n",
      "   [nan nan nan ... nan nan nan]]]\n",
      "\n",
      "\n",
      " [[[nan nan nan ... nan nan nan]\n",
      "   [nan nan nan ... nan nan nan]\n",
      "   [nan nan nan ... nan nan nan]\n",
      "   ...\n",
      "   [nan nan nan ... nan nan nan]\n",
      "   [nan nan nan ... nan nan nan]\n",
      "   [nan nan nan ... nan nan nan]]]]\n"
     ]
    }
   ],
   "source": []
  },
  {
   "cell_type": "code",
   "execution_count": 5,
   "id": "1a1c5499-d48f-4b05-b868-bd30977813ff",
   "metadata": {
    "tags": []
   },
   "outputs": [
    {
     "name": "stdout",
     "output_type": "stream",
     "text": [
      "nan\n"
     ]
    },
    {
     "name": "stderr",
     "output_type": "stream",
     "text": [
      "/work/b08209033/miniconda3/envs/default_kernel/lib/python3.11/site-packages/matplotlib/contour.py:1454: UserWarning: Warning: converting a masked element to nan.\n",
      "  self.zmax = float(z.max())\n",
      "/work/b08209033/miniconda3/envs/default_kernel/lib/python3.11/site-packages/matplotlib/contour.py:1455: UserWarning: Warning: converting a masked element to nan.\n",
      "  self.zmin = float(z.min())\n"
     ]
    },
    {
     "data": {
      "text/plain": [
       "<matplotlib.contour.QuadContourSet at 0x7f74fb407b10>"
      ]
     },
     "execution_count": 5,
     "metadata": {},
     "output_type": "execute_result"
    },
    {
     "data": {
      "image/png": "[encoded data removed]",
      "text/plain": [
       "<Figure size 640x480 with 1 Axes>"
      ]
     },
     "metadata": {},
     "output_type": "display_data"
    }
   ],
   "source": [
    "print(np.min(u[-1,-1,:,:]))\n",
    "plt.contourf(u[-1,-1,:,:], levels = np.linspace(-10,10,21), extend = \"both\", cmap = \"bwr\")\n",
    "#plt.quiver(u[0,-1,:,:][::10,::10],v[0,-1,:,:][::10,::10])"
   ]
  },
  {
   "cell_type": "code",
   "execution_count": 6,
   "id": "73ad763d-3d44-44f5-8c17-1b2b83468883",
   "metadata": {},
   "outputs": [
    {
     "ename": "KeyError",
     "evalue": "\"Unable to open object (object 'output_manager' doesn't exist)\"",
     "output_type": "error",
     "traceback": [
      "\u001b[0;31m---------------------------------------------------------------------------\u001b[0m",
      "\u001b[0;31mKeyError\u001b[0m                                  Traceback (most recent call last)",
      "Cell \u001b[0;32mIn[6], line 1\u001b[0m\n\u001b[0;32m----> 1\u001b[0m dataset \u001b[38;5;241m=\u001b[39m \u001b[43mfile\u001b[49m\u001b[43m[\u001b[49m\u001b[38;5;124;43m\"\u001b[39;49m\u001b[38;5;124;43moutput_manager\u001b[39;49m\u001b[38;5;124;43m\"\u001b[39;49m\u001b[43m]\u001b[49m\n\u001b[1;32m      2\u001b[0m \u001b[38;5;28mprint\u001b[39m(dataset)\n",
      "File \u001b[0;32mh5py/_objects.pyx:54\u001b[0m, in \u001b[0;36mh5py._objects.with_phil.wrapper\u001b[0;34m()\u001b[0m\n",
      "File \u001b[0;32mh5py/_objects.pyx:55\u001b[0m, in \u001b[0;36mh5py._objects.with_phil.wrapper\u001b[0;34m()\u001b[0m\n",
      "File \u001b[0;32m~/miniconda3/envs/Pcore_env/lib/python3.10/site-packages/h5py/_hl/group.py:328\u001b[0m, in \u001b[0;36mGroup.__getitem__\u001b[0;34m(self, name)\u001b[0m\n\u001b[1;32m    326\u001b[0m         \u001b[38;5;28;01mraise\u001b[39;00m \u001b[38;5;167;01mValueError\u001b[39;00m(\u001b[38;5;124m\"\u001b[39m\u001b[38;5;124mInvalid HDF5 object reference\u001b[39m\u001b[38;5;124m\"\u001b[39m)\n\u001b[1;32m    327\u001b[0m \u001b[38;5;28;01melif\u001b[39;00m \u001b[38;5;28misinstance\u001b[39m(name, (\u001b[38;5;28mbytes\u001b[39m, \u001b[38;5;28mstr\u001b[39m)):\n\u001b[0;32m--> 328\u001b[0m     oid \u001b[38;5;241m=\u001b[39m \u001b[43mh5o\u001b[49m\u001b[38;5;241;43m.\u001b[39;49m\u001b[43mopen\u001b[49m\u001b[43m(\u001b[49m\u001b[38;5;28;43mself\u001b[39;49m\u001b[38;5;241;43m.\u001b[39;49m\u001b[43mid\u001b[49m\u001b[43m,\u001b[49m\u001b[43m \u001b[49m\u001b[38;5;28;43mself\u001b[39;49m\u001b[38;5;241;43m.\u001b[39;49m\u001b[43m_e\u001b[49m\u001b[43m(\u001b[49m\u001b[43mname\u001b[49m\u001b[43m)\u001b[49m\u001b[43m,\u001b[49m\u001b[43m \u001b[49m\u001b[43mlapl\u001b[49m\u001b[38;5;241;43m=\u001b[39;49m\u001b[38;5;28;43mself\u001b[39;49m\u001b[38;5;241;43m.\u001b[39;49m\u001b[43m_lapl\u001b[49m\u001b[43m)\u001b[49m\n\u001b[1;32m    329\u001b[0m \u001b[38;5;28;01melse\u001b[39;00m:\n\u001b[1;32m    330\u001b[0m     \u001b[38;5;28;01mraise\u001b[39;00m \u001b[38;5;167;01mTypeError\u001b[39;00m(\u001b[38;5;124m\"\u001b[39m\u001b[38;5;124mAccessing a group is done with bytes or str, \u001b[39m\u001b[38;5;124m\"\u001b[39m\n\u001b[1;32m    331\u001b[0m                     \u001b[38;5;124m\"\u001b[39m\u001b[38;5;124m not \u001b[39m\u001b[38;5;132;01m{}\u001b[39;00m\u001b[38;5;124m\"\u001b[39m\u001b[38;5;241m.\u001b[39mformat(\u001b[38;5;28mtype\u001b[39m(name)))\n",
      "File \u001b[0;32mh5py/_objects.pyx:54\u001b[0m, in \u001b[0;36mh5py._objects.with_phil.wrapper\u001b[0;34m()\u001b[0m\n",
      "File \u001b[0;32mh5py/_objects.pyx:55\u001b[0m, in \u001b[0;36mh5py._objects.with_phil.wrapper\u001b[0;34m()\u001b[0m\n",
      "File \u001b[0;32mh5py/h5o.pyx:190\u001b[0m, in \u001b[0;36mh5py.h5o.open\u001b[0;34m()\u001b[0m\n",
      "\u001b[0;31mKeyError\u001b[0m: \"Unable to open object (object 'output_manager' doesn't exist)\""
     ]
    }
   ],
   "source": [
    "dataset = file[\"output_manager\"]\n",
    "print(dataset)"
   ]
  },
  {
   "cell_type": "code",
   "execution_count": null,
   "id": "9909b10d-28cc-4100-bb7d-0c79a402812e",
   "metadata": {},
   "outputs": [],
   "source": [
    "for (f_name,f_type) in dataset.dtype.descr:\n",
    "    print(f_name, f_type)"
   ]
  },
  {
   "cell_type": "code",
   "execution_count": null,
   "id": "35a1681a-6bfb-408e-ba06-fc7d697ce9ee",
   "metadata": {},
   "outputs": [],
   "source": [
    "\n",
    "# Access primitive datatype by directly indexing\n",
    "print(\"nλ :\", dataset[\"nλ\"])\n",
    "print(\"nθ :\", dataset[\"nθ\"])\n",
    "print(\"nd :\", dataset[\"nd\"])\n",
    "print(\"n_day :\", dataset[\"n_day\"])\n",
    "print()\n",
    "# Access reference datatype by dereferencing\n",
    "varname = \"u_daily_zonal_mean\"\n",
    "reference = dataset[varname]\n",
    "sub_dataset = file[reference]\n",
    "var = sub_dataset[:]\n",
    "print(varname, \":\", var.shape, var.dtype)"
   ]
  },
  {
   "cell_type": "code",
   "execution_count": null,
   "id": "0611ac1f-4aed-472c-b97f-f6c2cadcd9b6",
   "metadata": {},
   "outputs": [],
   "source": []
  }
 ],
 "metadata": {
  "kernelspec": {
   "display_name": "Python 3 (ipykernel)",
   "language": "python",
   "name": "python3"
  },
  "language_info": {
   "codemirror_mode": {
    "name": "ipython",
    "version": 3
   },
   "file_extension": ".py",
   "mimetype": "text/x-python",
   "name": "python",
   "nbconvert_exporter": "python",
   "pygments_lexer": "ipython3",
   "version": "3.11.5"
  }
 },
 "nbformat": 4,
 "nbformat_minor": 5
}
