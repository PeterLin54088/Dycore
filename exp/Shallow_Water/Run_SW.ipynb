{
 "cells": [
  {
   "cell_type": "code",
   "execution_count": 25,
   "id": "ac5b23d4-25bb-41b1-9704-bb3d086cb942",
   "metadata": {
    "tags": []
   },
   "outputs": [
    {
     "name": "stdout",
     "output_type": "stream",
     "text": [
      "Julia Version 1.9.3\n",
      "Commit bed2cd540a1 (2023-08-24 14:43 UTC)\n",
      "Build Info:\n",
      "  Official https://julialang.org/ release\n",
      "Platform Info:\n",
      "  OS: Linux (x86_64-linux-gnu)\n",
      "  CPU: 64 × AMD EPYC 9374F 32-Core Processor\n",
      "  WORD_SIZE: 64\n",
      "  LIBM: libopenlibm\n",
      "  LLVM: libLLVM-14.0.6 (ORCJIT, znver3)\n",
      "  Threads: 2 on 64 virtual cores\n"
     ]
    },
    {
     "data": {
      "text/plain": [
       "\"/home/b08209033/Dycore/exp/Shallow_Water\""
      ]
     },
     "execution_count": 25,
     "metadata": {},
     "output_type": "execute_result"
    }
   ],
   "source": [
    "versioninfo()\n",
    "\n",
    "using JGCM\n",
    "include(\"SW.jl\")\n",
    "pwd()"
   ]
  },
  {
   "cell_type": "code",
   "execution_count": 26,
   "id": "7d03ffe4-8403-4e72-8198-0378bd12021a",
   "metadata": {
    "tags": []
   },
   "outputs": [
    {
     "name": "stdout",
     "output_type": "stream",
     "text": [
      "##########################################################################################\n",
      "Initial       vorticity maximum : 5.0772e-5  (1/s)\n",
      "Initial      zonal wind maximum : 14.3674  (m/s)\n",
      "Initial meridional wind maximum : 0.0243  (m/s)\n",
      "##########################################################################################\n",
      "(norm(grid_u), norm(grid_v), norm(grid_h)) = (1162.348220924682, 0.7043181242980127, 1.8390418748069615e6)\n"
     ]
    },
    {
     "name": "stderr",
     "output_type": "stream",
     "text": [
      "\u001b[36m\u001b[1m[ \u001b[22m\u001b[39m\u001b[36m\u001b[1mInfo: \u001b[22m\u001b[39m1\n"
     ]
    },
    {
     "name": "stdout",
     "output_type": "stream",
     "text": [
      "(norm(grid_u), norm(grid_v), norm(grid_h)) = (1162.3476195822664, 0.665281206369226, 1.8390418532731533e6)\n"
     ]
    },
    {
     "name": "stderr",
     "output_type": "stream",
     "text": [
      "\u001b[36m\u001b[1m[ \u001b[22m\u001b[39m\u001b[36m\u001b[1mInfo: \u001b[22m\u001b[39m2\n"
     ]
    },
    {
     "name": "stdout",
     "output_type": "stream",
     "text": [
      "(norm(grid_u), norm(grid_v), norm(grid_h)) = (1162.3467538337911, 1.0481142224574465, 1.8390418446672596e6)\n"
     ]
    },
    {
     "ename": "LoadError",
     "evalue": "InterruptException:",
     "output_type": "error",
     "traceback": [
      "InterruptException:",
      "",
      "Stacktrace:",
      "  [1] Array",
      "    @ ./boot.jl:477 [inlined]",
      "  [2] Array",
      "    @ ./boot.jl:486 [inlined]",
      "  [3] similar",
      "    @ ./array.jl:374 [inlined]",
      "  [4] similar",
      "    @ ./abstractarray.jl:838 [inlined]",
      "  [5] _unsafe_getindex",
      "    @ ./multidimensional.jl:873 [inlined]",
      "  [6] _getindex",
      "    @ ./multidimensional.jl:861 [inlined]",
      "  [7] getindex",
      "    @ ./abstractarray.jl:1296 [inlined]",
      "  [8] Trans_Spherical_To_Grid!(mesh::Spectral_Spherical_Mesh, snm::Array{ComplexF64, 3}, pfield::Array{Float64, 3})",
      "    @ JGCM ~/Dycore/src/Atmos_Spectral/Spectral_Spherical_Mesh.jl:197",
      "  [9] Compute_Gradients!(mesh::Spectral_Spherical_Mesh, spe_hs::Array{ComplexF64, 3}, grid_dλ_hs::Array{Float64, 3}, grid_dθ_hs::Array{Float64, 3})",
      "    @ JGCM ~/Dycore/src/Atmos_Spectral/Spectral_Spherical_Mesh.jl:748",
      " [10] Add_Horizontal_Advection!(mesh::Spectral_Spherical_Mesh, spe_hs::Array{ComplexF64, 3}, grid_u::Array{Float64, 3}, grid_v::Array{Float64, 3}, grid_δhs::Array{Float64, 3})",
      "    @ JGCM ~/Dycore/src/Atmos_Spectral/Spectral_Spherical_Mesh.jl:729",
      " [11] Shallow_Water_Dynamics!(mesh::Spectral_Spherical_Mesh, atmo_data::Atmo_Data, dyn_data::Dyn_Data, integrator::Filtered_Leapfrog, h_0::Float64)",
      "    @ JGCM ~/Dycore/src/Atmos_Spectral/Shallow_Water_Dynamics.jl:164",
      " [12] Shallow_Water_Main()",
      "    @ Main ~/Dycore/exp/Shallow_Water/SW.jl:323",
      " [13] top-level scope",
      "    @ In[26]:1"
     ]
    }
   ],
   "source": [
    "output_manager = Shallow_Water_Main()\n",
    "Finalize_Output!(output_manager, \"daily.jld\")"
   ]
  },
  {
   "cell_type": "code",
   "execution_count": null,
   "id": "4ea9e357-4b80-4cf8-99d2-40e446eace75",
   "metadata": {},
   "outputs": [],
   "source": []
  }
 ],
 "metadata": {
  "kernelspec": {
   "display_name": "Julia 1.9.3",
   "language": "julia",
   "name": "julia-1.9"
  },
  "language_info": {
   "file_extension": ".jl",
   "mimetype": "application/julia",
   "name": "julia",
   "version": "1.9.3"
  }
 },
 "nbformat": 4,
 "nbformat_minor": 5
}
