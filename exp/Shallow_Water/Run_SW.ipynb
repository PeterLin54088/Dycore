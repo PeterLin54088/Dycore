{
 "cells": [
  {
   "cell_type": "code",
   "execution_count": 17,
   "id": "ac5b23d4-25bb-41b1-9704-bb3d086cb942",
   "metadata": {
    "tags": []
   },
   "outputs": [
    {
     "name": "stdout",
     "output_type": "stream",
     "text": [
      "Julia Version 1.9.3\n",
      "Commit bed2cd540a1 (2023-08-24 14:43 UTC)\n",
      "Build Info:\n",
      "  Official https://julialang.org/ release\n",
      "Platform Info:\n",
      "  OS: Linux (x86_64-linux-gnu)\n",
      "  CPU: 64 × AMD EPYC 9374F 32-Core Processor\n",
      "  WORD_SIZE: 64\n",
      "  LIBM: libopenlibm\n",
      "  LLVM: libLLVM-14.0.6 (ORCJIT, znver3)\n",
      "  Threads: 2 on 64 virtual cores\n"
     ]
    },
    {
     "data": {
      "text/plain": [
       "\"/home/b08209033/Dycore/exp/Shallow_Water\""
      ]
     },
     "execution_count": 17,
     "metadata": {},
     "output_type": "execute_result"
    }
   ],
   "source": [
    "versioninfo()\n",
    "\n",
    "using JGCM\n",
    "include(\"SW.jl\")\n",
    "pwd()"
   ]
  },
  {
   "cell_type": "code",
   "execution_count": 18,
   "id": "7d03ffe4-8403-4e72-8198-0378bd12021a",
   "metadata": {
    "tags": []
   },
   "outputs": [
    {
     "name": "stdout",
     "output_type": "stream",
     "text": [
      "background geopotential anomaly adjustment : -29.32493317184626 + 0.0im\n",
      "background vorticity amplitude : 5.0681769656249254e-5\n",
      "perturbed geopotential anomaly adjustment : -1.353495580072326e-5 + 0.0im\n",
      "perturbed vorticity amplitude : 9.332973286076858e-8\n",
      "(norm(grid_u), norm(grid_v), norm(grid_h)) = (1162.348220924682, 0.7043181242980127, 1.8390418748069615e6)\n"
     ]
    },
    {
     "name": "stderr",
     "output_type": "stream",
     "text": [
      "\u001b[36m\u001b[1m[ \u001b[22m\u001b[39m\u001b[36m\u001b[1mInfo: \u001b[22m\u001b[39m1\n"
     ]
    },
    {
     "name": "stdout",
     "output_type": "stream",
     "text": [
      "(norm(grid_u), norm(grid_v), norm(grid_h)) = (1162.3476195822661, 0.6652812063692257, 1.8390418532731533e6)\n"
     ]
    },
    {
     "name": "stderr",
     "output_type": "stream",
     "text": [
      "\u001b[36m\u001b[1m[ \u001b[22m\u001b[39m\u001b[36m\u001b[1mInfo: \u001b[22m\u001b[39m2\n"
     ]
    },
    {
     "name": "stdout",
     "output_type": "stream",
     "text": [
      "(norm(grid_u), norm(grid_v), norm(grid_h)) = (1162.3467538337914, 1.04811422245745, 1.8390418446672596e6)\n"
     ]
    },
    {
     "name": "stderr",
     "output_type": "stream",
     "text": [
      "\u001b[36m\u001b[1m[ \u001b[22m\u001b[39m\u001b[36m\u001b[1mInfo: \u001b[22m\u001b[39m3\n"
     ]
    },
    {
     "name": "stdout",
     "output_type": "stream",
     "text": [
      "(norm(grid_u), norm(grid_v), norm(grid_h)) = (1162.3456033705277, 1.5845844818681796, 1.8390418365949774e6)\n"
     ]
    },
    {
     "name": "stderr",
     "output_type": "stream",
     "text": [
      "\u001b[36m\u001b[1m[ \u001b[22m\u001b[39m\u001b[36m\u001b[1mInfo: \u001b[22m\u001b[39m4\n"
     ]
    },
    {
     "name": "stdout",
     "output_type": "stream",
     "text": [
      "(norm(grid_u), norm(grid_v), norm(grid_h)) = (1162.343615535314, 2.4261864344077497, 1.8390418291902076e6)\n"
     ]
    },
    {
     "name": "stderr",
     "output_type": "stream",
     "text": [
      "\u001b[36m\u001b[1m[ \u001b[22m\u001b[39m\u001b[36m\u001b[1mInfo: \u001b[22m\u001b[39m5\n"
     ]
    },
    {
     "name": "stdout",
     "output_type": "stream",
     "text": [
      "(norm(grid_u), norm(grid_v), norm(grid_h)) = (1162.3396671901992, 3.668689186081943, 1.8390418250654056e6)\n"
     ]
    },
    {
     "name": "stderr",
     "output_type": "stream",
     "text": [
      "\u001b[36m\u001b[1m[ \u001b[22m\u001b[39m\u001b[36m\u001b[1mInfo: \u001b[22m\u001b[39m6\n"
     ]
    },
    {
     "name": "stdout",
     "output_type": "stream",
     "text": [
      "(norm(grid_u), norm(grid_v), norm(grid_h)) = (1162.3313475817545, 5.547612304215564, 1.8390418216521037e6)\n"
     ]
    },
    {
     "name": "stderr",
     "output_type": "stream",
     "text": [
      "\u001b[36m\u001b[1m[ \u001b[22m\u001b[39m\u001b[36m\u001b[1mInfo: \u001b[22m\u001b[39m7\n"
     ]
    },
    {
     "name": "stdout",
     "output_type": "stream",
     "text": [
      "(norm(grid_u), norm(grid_v), norm(grid_h)) = (1162.3134112506727, 8.296144240116334, 1.8390418199339095e6)\n"
     ]
    },
    {
     "name": "stderr",
     "output_type": "stream",
     "text": [
      "\u001b[36m\u001b[1m[ \u001b[22m\u001b[39m\u001b[36m\u001b[1mInfo: \u001b[22m\u001b[39m8\n"
     ]
    },
    {
     "name": "stdout",
     "output_type": "stream",
     "text": [
      "(norm(grid_u), norm(grid_v), norm(grid_h)) = (1162.2738734222446, 12.403424116127697, 1.839041818002066e6)\n"
     ]
    },
    {
     "name": "stderr",
     "output_type": "stream",
     "text": [
      "\u001b[36m\u001b[1m[ \u001b[22m\u001b[39m\u001b[36m\u001b[1mInfo: \u001b[22m\u001b[39m9\n"
     ]
    },
    {
     "name": "stdout",
     "output_type": "stream",
     "text": [
      "(norm(grid_u), norm(grid_v), norm(grid_h)) = (1162.1881443221655, 18.418998318396135, 1.8390418157911503e6)\n"
     ]
    },
    {
     "name": "stderr",
     "output_type": "stream",
     "text": [
      "\u001b[36m\u001b[1m[ \u001b[22m\u001b[39m\u001b[36m\u001b[1mInfo: \u001b[22m\u001b[39m10\n"
     ]
    }
   ],
   "source": [
    "output_manager = Shallow_Water_Main()\n",
    "Finalize_Output!(output_manager, \"daily.jld\")"
   ]
  },
  {
   "cell_type": "code",
   "execution_count": null,
   "id": "4ea9e357-4b80-4cf8-99d2-40e446eace75",
   "metadata": {},
   "outputs": [],
   "source": []
  }
 ],
 "metadata": {
  "kernelspec": {
   "display_name": "Julia 1.9.3",
   "language": "julia",
   "name": "julia-1.9"
  },
  "language_info": {
   "file_extension": ".jl",
   "mimetype": "application/julia",
   "name": "julia",
   "version": "1.9.3"
  }
 },
 "nbformat": 4,
 "nbformat_minor": 5
}
